{
 "cells": [
  {
   "cell_type": "code",
   "execution_count": 3,
   "metadata": {},
   "outputs": [],
   "source": [
    "import spatialdata\n",
    "import spatialdata_plot\n",
    "import napari\n",
    "import napari_spatialdata\n",
    "\n",
    "import sopa.segmentation\n",
    "import sopa.io\n",
    "\n",
    "import ray"
   ]
  },
  {
   "cell_type": "code",
   "execution_count": 4,
   "metadata": {},
   "outputs": [],
   "source": [
    "path_to_image =\"/Volumes/ag_coscia/Jose/P26_BCCN/P26E02_FrameSlides/991/qupath_8k_subset/991_subset.ome.tif\""
   ]
  },
  {
   "cell_type": "code",
   "execution_count": 5,
   "metadata": {},
   "outputs": [
    {
     "name": "stdout",
     "output_type": "stream",
     "text": [
      "\u001b[34mINFO    \u001b[0m `dims` is specified redundantly: found also inside `data`.                                                \n"
     ]
    }
   ],
   "source": [
    "sdata = sopa.io.ome_tif(path_to_image, as_image=False)"
   ]
  },
  {
   "cell_type": "code",
   "execution_count": 6,
   "metadata": {},
   "outputs": [
    {
     "data": {
      "text/plain": [
       "SpatialData object\n",
       "└── Images\n",
       "      └── '991_subset': DataTree[cyx] (15, 8000, 8000), (15, 4000, 4000), (15, 2000, 2000), (15, 1000, 1000), (15, 500, 500)\n",
       "with coordinate systems:\n",
       "    ▸ 'pixels', with elements:\n",
       "        991_subset (Images)"
      ]
     },
     "execution_count": 6,
     "metadata": {},
     "output_type": "execute_result"
    }
   ],
   "source": [
    "sdata"
   ]
  },
  {
   "cell_type": "code",
   "execution_count": 7,
   "metadata": {},
   "outputs": [
    {
     "ename": "ValueError",
     "evalue": "Invalid element type: <class 'datatree.datatree.DataTree'>",
     "output_type": "error",
     "traceback": [
      "\u001b[0;31m---------------------------------------------------------------------------\u001b[0m",
      "\u001b[0;31mValueError\u001b[0m                                Traceback (most recent call last)",
      "Cell \u001b[0;32mIn[7], line 1\u001b[0m\n\u001b[0;32m----> 1\u001b[0m patches \u001b[38;5;241m=\u001b[39m \u001b[43msopa\u001b[49m\u001b[38;5;241;43m.\u001b[39;49m\u001b[43msegmentation\u001b[49m\u001b[38;5;241;43m.\u001b[39;49m\u001b[43mPatches2D\u001b[49m\u001b[43m(\u001b[49m\u001b[43msdata\u001b[49m\u001b[43m,\u001b[49m\u001b[43m \u001b[49m\u001b[43melement_name\u001b[49m\u001b[38;5;241;43m=\u001b[39;49m\u001b[38;5;124;43m'\u001b[39;49m\u001b[38;5;124;43m991_subset\u001b[39;49m\u001b[38;5;124;43m'\u001b[39;49m\u001b[43m,\u001b[49m\u001b[43m \u001b[49m\u001b[43mpatch_width\u001b[49m\u001b[38;5;241;43m=\u001b[39;49m\u001b[38;5;241;43m1200\u001b[39;49m\u001b[43m,\u001b[49m\u001b[43m \u001b[49m\u001b[43mpatch_overlap\u001b[49m\u001b[38;5;241;43m=\u001b[39;49m\u001b[38;5;241;43m50\u001b[39;49m\u001b[43m)\u001b[49m\n\u001b[1;32m      2\u001b[0m patches\u001b[38;5;241m.\u001b[39mwrite()\n",
      "File \u001b[0;32m/opt/homebrew/Caskroom/mambaforge/base/envs/SOPA_2/lib/python3.10/site-packages/sopa/patches/patches.py:112\u001b[0m, in \u001b[0;36mPatches2D.__init__\u001b[0;34m(self, sdata, element_name, patch_width, patch_overlap)\u001b[0m\n\u001b[1;32m    110\u001b[0m     tight, int_coords \u001b[38;5;241m=\u001b[39m \u001b[38;5;28;01mTrue\u001b[39;00m, \u001b[38;5;28;01mFalse\u001b[39;00m\n\u001b[1;32m    111\u001b[0m \u001b[38;5;28;01melse\u001b[39;00m:\n\u001b[0;32m--> 112\u001b[0m     \u001b[38;5;28;01mraise\u001b[39;00m \u001b[38;5;167;01mValueError\u001b[39;00m(\u001b[38;5;124mf\u001b[39m\u001b[38;5;124m\"\u001b[39m\u001b[38;5;124mInvalid element type: \u001b[39m\u001b[38;5;132;01m{\u001b[39;00m\u001b[38;5;28mtype\u001b[39m(\u001b[38;5;28mself\u001b[39m\u001b[38;5;241m.\u001b[39melement)\u001b[38;5;132;01m}\u001b[39;00m\u001b[38;5;124m\"\u001b[39m)\n\u001b[1;32m    114\u001b[0m \u001b[38;5;28mself\u001b[39m\u001b[38;5;241m.\u001b[39mpatch_x \u001b[38;5;241m=\u001b[39m Patches1D(xmin, xmax, patch_width, patch_overlap, tight, int_coords)\n\u001b[1;32m    115\u001b[0m \u001b[38;5;28mself\u001b[39m\u001b[38;5;241m.\u001b[39mpatch_y \u001b[38;5;241m=\u001b[39m Patches1D(ymin, ymax, patch_width, patch_overlap, tight, int_coords)\n",
      "\u001b[0;31mValueError\u001b[0m: Invalid element type: <class 'datatree.datatree.DataTree'>"
     ]
    }
   ],
   "source": [
    "patches = sopa.segmentation.Patches2D(sdata, element_name='991_subset', patch_width=1200, patch_overlap=50)\n",
    "patches.write()"
   ]
  }
 ],
 "metadata": {
  "kernelspec": {
   "display_name": "SOPA",
   "language": "python",
   "name": "python3"
  },
  "language_info": {
   "codemirror_mode": {
    "name": "ipython",
    "version": 3
   },
   "file_extension": ".py",
   "mimetype": "text/x-python",
   "name": "python",
   "nbconvert_exporter": "python",
   "pygments_lexer": "ipython3",
   "version": "3.10.0"
  }
 },
 "nbformat": 4,
 "nbformat_minor": 2
}
